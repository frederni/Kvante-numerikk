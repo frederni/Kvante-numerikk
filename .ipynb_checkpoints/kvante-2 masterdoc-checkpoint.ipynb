{
 "cells": [
  {
   "cell_type": "markdown",
   "metadata": {},
   "source": [
    "**Navn på gruppens medlemmer: Frederick Nilsen, Aisha Halane**\n",
    "\n",
    "# Numerisk beregning av energier for partikkel i endelig brønnpotensiale\n",
    "\n",
    "For en partikkel i en endelig brønn med bredde $L$ og dybde $V_0$ er\n",
    "$$ V(x) = \\begin{cases} -V_0 & \\text{for}\\,\\, 0 < x < L \\\\ 0 & \\text{ellers} \\end{cases} $$\n",
    "\n",
    "Energiene til partikkelen er\n",
    "$$E = \\frac{2 \\hbar^2 z^2}{m L^2} - V_0,$$\n",
    "der $z$ er (reelle) løsninger av ligningene\n",
    "$$\\tan{(z)} = \\sqrt{\\frac{z_0^2}{z^2} - 1} \\qquad \\text{og} \\qquad \\tan{\\left(z + \\frac{\\pi}{2}\\right)} = \\sqrt{\\frac{z_0^2}{z^2} - 1}$$\n",
    "med $z_0 = \\frac{L}{2 \\hbar} \\sqrt{2 m V_0}.$\n",
    "Energiene kan i dette tilfellet ikke angis ved hjelp av enkle analytiske uttrykk. \n",
    "Vi skal her løse disse ligningene numerisk."
   ]
  },
  {
   "cell_type": "markdown",
   "metadata": {},
   "source": [
    "**Finn energinivåene til en partikkel i en endelig brønn numerisk. Vi har foreslått en framgangsmåte nedenfor.**\n",
    "1. **Plott funksjonene som involverer $z$ i ligningene over, så du kan se grafisk omtrent hvor løsningene ligger.**\n",
    "2. **Lokalisér intervaller på $z$-aksen som hver inneholder nøyaktig én løsning.**\n",
    "3. **Benytt en numerisk metode til å finne løsningen på hvert av intervallene. Kontrollér at de er korrekte ved å plotte dem sammen med funksjonene.**"
   ]
  },
  {
   "cell_type": "code",
   "execution_count": 51,
   "metadata": {},
   "outputs": [
    {
     "name": "stderr",
     "output_type": "stream",
     "text": [
      "/Users/aishahalane/anaconda3/lib/python3.6/site-packages/ipykernel_launcher.py:31: RuntimeWarning: invalid value encountered in sqrt\n"
     ]
    },
    {
     "name": "stdout",
     "output_type": "stream",
     "text": [
      "her\n"
     ]
    },
    {
     "data": {
      "image/png": "[encoded data removed]",
      "text/plain": [
       "<Figure size 432x288 with 1 Axes>"
      ]
     },
     "metadata": {
      "needs_background": "light"
     },
     "output_type": "display_data"
    }
   ],
   "source": [
    "# if using Jupyter Notebook, use interactive \"notebook\" backend for best results\n",
    "# if using Jupyter Lab, use interactive \"widget\" backend for best results\n",
    "# if both fail, use static \"inline\" backend\n",
    "#%matplotlib notebook \n",
    "#%matplotlib widget \n",
    "%matplotlib inline \n",
    "\n",
    "import numpy as np\n",
    "import matplotlib.pyplot as plt\n",
    "from numba import jit\n",
    "import scipy.optimize as opt\n",
    "\n",
    "#Task 2\n",
    "hbar =1.05e-34\n",
    "m=9.11e-31\n",
    "N=100\n",
    "\n",
    "L=1e-9\n",
    "eV = 1.60e-19\n",
    "V0 = 10*eV\n",
    "z0=L/(2*hbar)*np.sqrt(2*m*V0)\n",
    "z=np.linspace(0,z0,N+1)\n",
    "z=z[1:]\n",
    "dz=z[1]-z[0]\n",
    "\n",
    "\n",
    "\n",
    "\n",
    "##### numerical solution #####\n",
    "firstTan = lambda x: np.sqrt(z0**2/x**2-1)-np.tan(x)\n",
    "secondTan = lambda x: np.sqrt(z0**2/x**2-1)-np.tan(x+np.pi/2)\n",
    "zNulls = []\n",
    "\n",
    "counter = 0\n",
    "for i in np.arange(dz,8,np.pi/2):\n",
    "    if counter%2==0:\n",
    "        zNulls.append(opt.bisect(firstTan,i+2*dz,i+np.pi/2-2*dz))\n",
    "    else:\n",
    "\n",
    "        zNulls.append(opt.bisect(secondTan,i+dz,i+np.pi/2-dz))\n",
    "    counter+=1\n",
    "    \n",
    "zNulls = np.array(zNulls)\n",
    "\n",
    "\n",
    "axes = plt.gca()\n",
    "#axes.set_xlim([xmin,xmax])\n",
    "axes.set_ylim([-50,50])\n",
    "print(\"her\")\n",
    "plt.plot(z,np.tan(z), label=\"tan(z)\")\n",
    "plt.plot(z,np.tan(z+np.pi/2), label=\"tan(z+$\\pi$/2)\")\n",
    "plt.plot(z,np.sqrt(z0**2/z**2-1), label=\"sqrt-function\")\n",
    "plt.plot(zNulls, np.sqrt(z0**2/zNulls**2-1), 'o', markersize=3, label=\"Numerisk løsning\")\n",
    "plt.legend()\n",
    "plt.show()\n"
   ]
  },
  {
   "cell_type": "markdown",
   "metadata": {},
   "source": [
    "# Shooting-metoden\n",
    "\n",
    "I den første numeriske øvingen løste vi den tidsuavhengige Schrödingerligningen numerisk ved å finne egenverdiene og egenvektorene til en matrise.\n",
    "Vi skal her se på en alternativ og mer illustrerende numerisk teknikk for å løse ligningen.\n",
    "Teknikken kan brukes på alle potensialer, men vi begrenser oss her til potensialer som er symmetriske om $x = 0$, noe som gjør den litt enklere i bruk.\n",
    "\n",
    "Vi kommer til å få bruk for noen viktige egenskaper til de stasjonære tilstandene.\n",
    "* Den $n$-te eksiterte tilstanden $\\psi(x)$ i et symmetrisk potensial $V(x) = V(-x)$ er\n",
    "    * **symmetrisk** og **krysser ikke** $x$-aksen i origo for **partalls**-$n$. Altså er $\\psi(-x) = \\psi(x)$ og $\\psi(0) \\neq 0$.\n",
    "    * **antisymmetrisk** og **krysser** $x$-aksen i origo for **oddetalls**-$n$. Altså er $\\psi(-x) = -\\psi(x)$ og $\\psi(0) = 0$.\n",
    "* Den $n$-te eksiterte tilstanden $\\psi(x)$ har $n$ nullpunkter.\n",
    "\n",
    "Schrödingerligningen\n",
    "$$ \\hat{H} \\psi = -\\frac{\\hbar^2}{2 m} \\psi'' + V \\psi = E \\psi $$\n",
    "har, matematisk sett, løsninger for *alle* verdier av $E$.\n",
    "Gitt et par randverdier og en energi $E$, er det i teorien bare å integrere i vei for å finne en passende funksjon $\\psi(x)$.\n",
    "Men i fysikken er vi kun interessert i *fysisk akseptable løsninger* av ligningen som kan beskrive fysiske partikler.\n",
    "Disse skal beskrive en sannsynlighetstetthet $|\\psi|^2$ for posisjonen til en partikkel ved en måling, og må derfor være normerte, dvs. $\\int |\\psi|^2 \\mathrm{d} x$ = 1, noe som krever at $\\psi(x) \\rightarrow 0$ (tilstrekkelig raskt) når $x \\rightarrow \\pm \\infty$.\n",
    "Vi skal her se hvordan nettopp dette kravet legger (store) begrensninger på hva energiene $E$ kan være.\n",
    "\n",
    "For å finne fysisk akseptable verdier for $E$ (og dermed $\\psi)$, kan vi derfor gå fram på følgende måte:\n",
    "1. Gjett en energi $E$.\n",
    "2. Finn to kjente randverdier for $\\psi(x)$.\n",
    "3. Integrér Schrödingerligningen for å finne den passende funksjonen $\\psi(x)$.\n",
    "4. Undersøk om $\\psi(x)$ er en fysisk akseptabel løsning.\n",
    "    1. Hvis $\\psi(x) \\rightarrow 0$ når $x \\rightarrow \\pm \\infty$, kan $\\psi(x)$ normeres til en fysisk akseptabel løsning, og vi har gjettet en riktig verdi for $E$.\n",
    "    2. Hvis ikke $\\psi(x) \\rightarrow 0$ når $x \\rightarrow \\pm \\infty$, er $\\psi(x)$ ikke en fysisk akseptabel løsning, og vi har gjettet en gal verdi for $E$.\n",
    "\n",
    "Kort oppsummert gjetter vi en energi $E$ og \"skyter\" etter en passende funksjon $\\psi(x)$ fra kjente randverdier, før vi undersøker om vi \"treffer\" $\\psi = 0$ i $x = \\pm \\infty$. Metoden kalles derfor gjerne [the shooting method](https://en.wikipedia.org/wiki/Shooting_method) på engelsk.\n",
    "\n",
    "I den første numeriske øvingen tilnærmet vi den tidsuavhengige Schrödingerligningen som\n",
    "$$-\\frac{\\hbar^2}{2 m} \\frac{\\psi_{i+1} - 2 \\psi_i + \\psi_{i-1}}{{\\Delta x}^2} + V_i \\psi_i = E \\psi_i$$\n",
    "Vi lar her $i = 0$ svare til $x = 0$.\n",
    "Så lenge vi kjenner to verdier av $\\psi_i$ ved siden av hverandre, kan vi bruke denne ligningen til å finne verdiene $\\psi_i$ for alle $i$.\n",
    "\n",
    "I et symmetrisk potensial kan vi for oddetalls-$n$ utnytte $\\psi(0) = 0$ til å sette $\\psi_0 = 0$ og $\\psi_1$ til en vilkårlig verdi forskjellig fra $0$, for eksempel $\\psi_1 = 1$.\n",
    "Deretter kan vi benytte den tilnærmede Schrödingerligningen til å finne resten av verdiene $\\psi_i$.\n",
    "Hvis det ser ut til at $\\psi \\rightarrow 0$ for store $|x|$, kan vi normere $\\psi$ for å finne en fysisk akseptabel løsning.\n",
    "Den konkrete verdien vi velger for $\\psi_1$ er uten betydning, da den uansett blir korrigert ved normeringen.\n",
    "\n",
    "For partalls-$n$ utnytter vi tilsvarende $\\psi(0) \\neq 0$ til å sette for eksempel $\\psi_0 = 1$.\n",
    "Vi kan så utnytte symmetrien $\\psi_1 = \\psi_{-1}$ til å finne $\\psi_1$ fra den tilnærmede Schrödingerligningen.\n",
    "Så kan vi igjen integrere ligningen og sjekke om energien svarer til en akseptabel løsning.\n",
    "\n",
    "**Skriv en funksjon som skyter etter en symmetrisk eller antisymmetrisk kandidat for energiegenfunksjonen $\\psi(x)$ med energi $E$ til en partikkel med masse $m$ i et symmetrisk potensial $V(x)$. Den skal returnere integrasjonspunkter $x_i$, funksjonsverdiene $\\psi_i = \\psi(x_i)$ i disse punktene og antall nullpunkter i $\\psi(x)$. Funksjonen skal skyte ut fra origo i begge retninger og må stoppe å skyte etter en endelig avstand eller når det er åpenbart at $\\psi(x)$ divergerer, men den behøver ikke normere $\\psi(x)$.**"
   ]
  },
  {
   "cell_type": "code",
   "execution_count": 72,
   "metadata": {},
   "outputs": [],
   "source": [
    "#konstanter:\n",
    "import numpy as np\n",
    "hbar = 1.05E-34 # plancks konstant\n",
    "m = 9.11E-31 # electronmasse  \n",
    "V0 = 0.5*1.6E-19 #potensial\n",
    "dx = 0.004E-9 # delta x\n",
    "N = 1000 # antall oppdelinger\n",
    "L = (N+1)*delta_x # lengde\n",
    "z0 = (L/(2*hbar))*np.sqrt(2*m*V0) \n",
    "w = 1.0E13 \n",
    "\n",
    "\n",
    "#Potensial:\n",
    "def V(x):\n",
    "    return (1/2)*m*(w**2)*(x**2) #idk om dette er riktig\n",
    "\n",
    "n=0\n",
    "l=3000\n",
    "def ShootingMethod(E):\n",
    "    valid = \"yes\"\n",
    "    zeros = 0\n",
    "    psi = [0,0]\n",
    "    if n%2: #if odd\n",
    "        psi[0] = 0\n",
    "        psi[1] = 1\n",
    "        zeros+=1\n",
    "    else:\n",
    "        psi[0] = 1\n",
    "        psi[1] = (V(0)-E)*((dx)**2)*m/(hbar**2) + 1 \n",
    "\n",
    "    for i in range(2,l):\n",
    "        psi.append(2*psi[i-1]-psi[i-2] + (V(i*dx)-E)*psi[i-1]*(2*m/(hbar**2))*(dx**2)) \n",
    "\n",
    "\n",
    "        if psi[i-1] != 0:\n",
    "            if psi[i]/psi[i-1] <= 0:\n",
    "                zeros+=2\n",
    "    if psi[-1]/psi[-2] > 1: valid = \"no\"\n",
    "    return psi, zeros, valid\n",
    "E= hbar*w\n",
    "\n",
    "x, p, d=ShootingMethod(E)"
   ]
  },
  {
   "cell_type": "markdown",
   "metadata": {},
   "source": [
    "**Test funksjonen på et elektron i grunntilstanden i en harmonisk oscillator ved å skyte med energier rett over og under $E = 0.50 \\hbar \\omega$, for eksempel $E = 0.49 \\hbar \\omega$ og $E = 0.51 \\hbar \\omega$. Hva skjer?**"
   ]
  },
  {
   "cell_type": "code",
   "execution_count": 70,
   "metadata": {},
   "outputs": [
    {
     "ename": "TypingError",
     "evalue": "Failed in nopython mode pipeline (step: nopython frontend)\nInternal error at <numba.typeinfer.ArgConstraint object at 0x101c497278>.\n\u001b[1m\u001b[1m\u001b[1mcannot determine Numba type of <class 'function'>\u001b[0m\u001b[0m\n\u001b[0m\u001b[1m[1] During: typing of argument at <ipython-input-36-d34e8d8251d7> (20)\u001b[0m\nEnable logging at debug level for details.\n\u001b[1m\nFile \"<ipython-input-36-d34e8d8251d7>\", line 20:\u001b[0m\n\u001b[1mdef shooting_method(E, symmetric=True, V=harmonic_potensial, delta_x=dx, mass=m):\n\u001b[1m    x = [0.0,delta_x]\n\u001b[0m    \u001b[1m^\u001b[0m\u001b[0m\n\nThis error may have been caused by the following argument(s):\n- argument 2: \u001b[1mcannot determine Numba type of <class 'function'>\u001b[0m\n\nThis is not usually a problem with Numba itself but instead often caused by\nthe use of unsupported features or an issue in resolving types.\n\nTo see Python/NumPy features supported by the latest release of Numba visit:\nhttp://numba.pydata.org/numba-doc/latest/reference/pysupported.html\nand\nhttp://numba.pydata.org/numba-doc/latest/reference/numpysupported.html\n\nFor more information about typing errors and how to debug them visit:\nhttp://numba.pydata.org/numba-doc/latest/user/troubleshoot.html#my-code-doesn-t-compile\n\nIf you think your code should work with Numba, please report the error message\nand traceback, along with a minimal reproducer at:\nhttps://github.com/numba/numba/issues/new\n\nThis error may have been caused by the following argument(s):\n- argument 2: \u001b[1mcannot determine Numba type of <class 'function'>\u001b[0m\n\nThis is not usually a problem with Numba itself but instead often caused by\nthe use of unsupported features or an issue in resolving types.\n\nTo see Python/NumPy features supported by the latest release of Numba visit:\nhttp://numba.pydata.org/numba-doc/latest/reference/pysupported.html\nand\nhttp://numba.pydata.org/numba-doc/latest/reference/numpysupported.html\n\nFor more information about typing errors and how to debug them visit:\nhttp://numba.pydata.org/numba-doc/latest/user/troubleshoot.html#my-code-doesn-t-compile\n\nIf you think your code should work with Numba, please report the error message\nand traceback, along with a minimal reproducer at:\nhttps://github.com/numba/numba/issues/new\n",
     "output_type": "error",
     "traceback": [
      "\u001b[0;31m---------------------------------------------------------------------------\u001b[0m",
      "\u001b[0;31mTypingError\u001b[0m                               Traceback (most recent call last)",
      "\u001b[0;32m<ipython-input-70-cc17f9e4f6ac>\u001b[0m in \u001b[0;36m<module>\u001b[0;34m\u001b[0m\n\u001b[1;32m      5\u001b[0m \u001b[0mE_over\u001b[0m \u001b[0;34m=\u001b[0m \u001b[0;36m0.51\u001b[0m\u001b[0;34m*\u001b[0m\u001b[0mhbar\u001b[0m\u001b[0;34m*\u001b[0m\u001b[0mw\u001b[0m\u001b[0;34m\u001b[0m\u001b[0;34m\u001b[0m\u001b[0m\n\u001b[1;32m      6\u001b[0m \u001b[0;34m\u001b[0m\u001b[0m\n\u001b[0;32m----> 7\u001b[0;31m \u001b[0mx_under\u001b[0m\u001b[0;34m,\u001b[0m \u001b[0mpsi_under\u001b[0m\u001b[0;34m,\u001b[0m \u001b[0mzero_under\u001b[0m \u001b[0;34m=\u001b[0m \u001b[0mshooting_method\u001b[0m\u001b[0;34m(\u001b[0m\u001b[0mE_under\u001b[0m\u001b[0;34m)\u001b[0m\u001b[0;34m\u001b[0m\u001b[0;34m\u001b[0m\u001b[0m\n\u001b[0m\u001b[1;32m      8\u001b[0m \u001b[0mx\u001b[0m\u001b[0;34m,\u001b[0m \u001b[0mpsi\u001b[0m\u001b[0;34m,\u001b[0m \u001b[0mzero\u001b[0m \u001b[0;34m=\u001b[0m \u001b[0mshooting_method\u001b[0m\u001b[0;34m(\u001b[0m\u001b[0mE\u001b[0m\u001b[0;34m)\u001b[0m\u001b[0;34m\u001b[0m\u001b[0;34m\u001b[0m\u001b[0m\n\u001b[1;32m      9\u001b[0m \u001b[0mx_over\u001b[0m\u001b[0;34m,\u001b[0m \u001b[0mpsi_over\u001b[0m\u001b[0;34m,\u001b[0m \u001b[0mzero_over\u001b[0m \u001b[0;34m=\u001b[0m \u001b[0mshooting_method\u001b[0m\u001b[0;34m(\u001b[0m\u001b[0mE_over\u001b[0m\u001b[0;34m)\u001b[0m\u001b[0;34m\u001b[0m\u001b[0;34m\u001b[0m\u001b[0m\n",
      "\u001b[0;32m~/anaconda3/lib/python3.6/site-packages/numba/dispatcher.py\u001b[0m in \u001b[0;36m_compile_for_args\u001b[0;34m(self, *args, **kws)\u001b[0m\n\u001b[1;32m    399\u001b[0m                 \u001b[0me\u001b[0m\u001b[0;34m.\u001b[0m\u001b[0mpatch_message\u001b[0m\u001b[0;34m(\u001b[0m\u001b[0mmsg\u001b[0m\u001b[0;34m)\u001b[0m\u001b[0;34m\u001b[0m\u001b[0;34m\u001b[0m\u001b[0m\n\u001b[1;32m    400\u001b[0m \u001b[0;34m\u001b[0m\u001b[0m\n\u001b[0;32m--> 401\u001b[0;31m             \u001b[0merror_rewrite\u001b[0m\u001b[0;34m(\u001b[0m\u001b[0me\u001b[0m\u001b[0;34m,\u001b[0m \u001b[0;34m'typing'\u001b[0m\u001b[0;34m)\u001b[0m\u001b[0;34m\u001b[0m\u001b[0;34m\u001b[0m\u001b[0m\n\u001b[0m\u001b[1;32m    402\u001b[0m         \u001b[0;32mexcept\u001b[0m \u001b[0merrors\u001b[0m\u001b[0;34m.\u001b[0m\u001b[0mUnsupportedError\u001b[0m \u001b[0;32mas\u001b[0m \u001b[0me\u001b[0m\u001b[0;34m:\u001b[0m\u001b[0;34m\u001b[0m\u001b[0;34m\u001b[0m\u001b[0m\n\u001b[1;32m    403\u001b[0m             \u001b[0;31m# Something unsupported is present in the user code, add help info\u001b[0m\u001b[0;34m\u001b[0m\u001b[0;34m\u001b[0m\u001b[0;34m\u001b[0m\u001b[0m\n",
      "\u001b[0;32m~/anaconda3/lib/python3.6/site-packages/numba/dispatcher.py\u001b[0m in \u001b[0;36merror_rewrite\u001b[0;34m(e, issue_type)\u001b[0m\n\u001b[1;32m    342\u001b[0m                 \u001b[0;32mraise\u001b[0m \u001b[0me\u001b[0m\u001b[0;34m\u001b[0m\u001b[0;34m\u001b[0m\u001b[0m\n\u001b[1;32m    343\u001b[0m             \u001b[0;32melse\u001b[0m\u001b[0;34m:\u001b[0m\u001b[0;34m\u001b[0m\u001b[0;34m\u001b[0m\u001b[0m\n\u001b[0;32m--> 344\u001b[0;31m                 \u001b[0mreraise\u001b[0m\u001b[0;34m(\u001b[0m\u001b[0mtype\u001b[0m\u001b[0;34m(\u001b[0m\u001b[0me\u001b[0m\u001b[0;34m)\u001b[0m\u001b[0;34m,\u001b[0m \u001b[0me\u001b[0m\u001b[0;34m,\u001b[0m \u001b[0;32mNone\u001b[0m\u001b[0;34m)\u001b[0m\u001b[0;34m\u001b[0m\u001b[0;34m\u001b[0m\u001b[0m\n\u001b[0m\u001b[1;32m    345\u001b[0m \u001b[0;34m\u001b[0m\u001b[0m\n\u001b[1;32m    346\u001b[0m         \u001b[0margtypes\u001b[0m \u001b[0;34m=\u001b[0m \u001b[0;34m[\u001b[0m\u001b[0;34m]\u001b[0m\u001b[0;34m\u001b[0m\u001b[0;34m\u001b[0m\u001b[0m\n",
      "\u001b[0;32m~/anaconda3/lib/python3.6/site-packages/numba/six.py\u001b[0m in \u001b[0;36mreraise\u001b[0;34m(tp, value, tb)\u001b[0m\n\u001b[1;32m    666\u001b[0m             \u001b[0mvalue\u001b[0m \u001b[0;34m=\u001b[0m \u001b[0mtp\u001b[0m\u001b[0;34m(\u001b[0m\u001b[0;34m)\u001b[0m\u001b[0;34m\u001b[0m\u001b[0;34m\u001b[0m\u001b[0m\n\u001b[1;32m    667\u001b[0m         \u001b[0;32mif\u001b[0m \u001b[0mvalue\u001b[0m\u001b[0;34m.\u001b[0m\u001b[0m__traceback__\u001b[0m \u001b[0;32mis\u001b[0m \u001b[0;32mnot\u001b[0m \u001b[0mtb\u001b[0m\u001b[0;34m:\u001b[0m\u001b[0;34m\u001b[0m\u001b[0;34m\u001b[0m\u001b[0m\n\u001b[0;32m--> 668\u001b[0;31m             \u001b[0;32mraise\u001b[0m \u001b[0mvalue\u001b[0m\u001b[0;34m.\u001b[0m\u001b[0mwith_traceback\u001b[0m\u001b[0;34m(\u001b[0m\u001b[0mtb\u001b[0m\u001b[0;34m)\u001b[0m\u001b[0;34m\u001b[0m\u001b[0;34m\u001b[0m\u001b[0m\n\u001b[0m\u001b[1;32m    669\u001b[0m         \u001b[0;32mraise\u001b[0m \u001b[0mvalue\u001b[0m\u001b[0;34m\u001b[0m\u001b[0;34m\u001b[0m\u001b[0m\n\u001b[1;32m    670\u001b[0m \u001b[0;34m\u001b[0m\u001b[0m\n",
      "\u001b[0;31mTypingError\u001b[0m: Failed in nopython mode pipeline (step: nopython frontend)\nInternal error at <numba.typeinfer.ArgConstraint object at 0x101c497278>.\n\u001b[1m\u001b[1m\u001b[1mcannot determine Numba type of <class 'function'>\u001b[0m\u001b[0m\n\u001b[0m\u001b[1m[1] During: typing of argument at <ipython-input-36-d34e8d8251d7> (20)\u001b[0m\nEnable logging at debug level for details.\n\u001b[1m\nFile \"<ipython-input-36-d34e8d8251d7>\", line 20:\u001b[0m\n\u001b[1mdef shooting_method(E, symmetric=True, V=harmonic_potensial, delta_x=dx, mass=m):\n\u001b[1m    x = [0.0,delta_x]\n\u001b[0m    \u001b[1m^\u001b[0m\u001b[0m\n\nThis error may have been caused by the following argument(s):\n- argument 2: \u001b[1mcannot determine Numba type of <class 'function'>\u001b[0m\n\nThis is not usually a problem with Numba itself but instead often caused by\nthe use of unsupported features or an issue in resolving types.\n\nTo see Python/NumPy features supported by the latest release of Numba visit:\nhttp://numba.pydata.org/numba-doc/latest/reference/pysupported.html\nand\nhttp://numba.pydata.org/numba-doc/latest/reference/numpysupported.html\n\nFor more information about typing errors and how to debug them visit:\nhttp://numba.pydata.org/numba-doc/latest/user/troubleshoot.html#my-code-doesn-t-compile\n\nIf you think your code should work with Numba, please report the error message\nand traceback, along with a minimal reproducer at:\nhttps://github.com/numba/numba/issues/new\n\nThis error may have been caused by the following argument(s):\n- argument 2: \u001b[1mcannot determine Numba type of <class 'function'>\u001b[0m\n\nThis is not usually a problem with Numba itself but instead often caused by\nthe use of unsupported features or an issue in resolving types.\n\nTo see Python/NumPy features supported by the latest release of Numba visit:\nhttp://numba.pydata.org/numba-doc/latest/reference/pysupported.html\nand\nhttp://numba.pydata.org/numba-doc/latest/reference/numpysupported.html\n\nFor more information about typing errors and how to debug them visit:\nhttp://numba.pydata.org/numba-doc/latest/user/troubleshoot.html#my-code-doesn-t-compile\n\nIf you think your code should work with Numba, please report the error message\nand traceback, along with a minimal reproducer at:\nhttps://github.com/numba/numba/issues/new\n"
     ]
    }
   ],
   "source": [
    "w = 1.0E13 \n",
    "\n",
    "E_under = 0.49*hbar*w\n",
    "E= 0.5*hbar*w \n",
    "E_over = 0.51*hbar*w \n",
    "\n",
    "x_under, psi_under, zero_under = shooting_method(E_under)\n",
    "x, psi, zero = shooting_method(E)\n",
    "x_over, psi_over, zero_over = shooting_method(E_over)\n",
    "\n",
    "def energies():\n",
    "    E=[0.49*hbar*w, 0.5*hbar*w,0.51*hbar*w]\n",
    "    for i in range(3):\n",
    "        x[i], psi[i], zero[i]=shooting_method(E[i], 1)\n",
    "        plt.plot(-x[i],0, 'r', x[i], psi[i], 'r')\n",
    "        print(\"Zeros:\", zero[1], zero[2], zero[3])\n",
    "    plt.title('Eksiterte tilstander av harmonisk oscillator', fontsize=18)\n",
    "    plt.xlabel('$x$',fontsize=15)\n",
    "    plt.ylabel('$\\psi\\ (x)$',fontsize=15)\n",
    "    plt.grid()\n",
    "    plt.show()\n",
    "\n",
    "\n",
    "    "
   ]
  },
  {
   "cell_type": "markdown",
   "metadata": {},
   "source": [
    "Vi kan systematisere gjettingen av $E$ på en måte som lar oss søke etter energien og energiegenfunksjonen til en vilkårlig $n$-te eksiterte tilstand.\n",
    "\n",
    "Anta at vi vet med sikkerhet at $E$ ligger mellom $E_1$ og $E_2$ (der $E_2 > E_1$), og la disse energiene svare til funksjonene $\\psi_1$ og $\\psi_2$ med $n_1$ og $n_2$ nullpunkter.\n",
    "Da er $n_1 \\leq n$ og $n_2 > n$.\n",
    "Vi kan så skyte ut en ny funksjon $\\psi_0$ med energien $E_0 = (E_1 + E_2) / 2$ og $n_0$ nullpunkter.\n",
    "Hvis $n_0 \\leq n$, er $E_0$ en bedre nedre skranke for $E$ enn $E_1$.\n",
    "Hvis $n_0 > n$, derimot, er $E_0$ en bedre øvre skranke til $E$ enn $E_2$.\n",
    "Vi kan dermed bytte ut en av skrankene med $E_0$ og gjenta prosessen for å finne et gradvis mindre intervall der energien ligger.\n",
    "Når intervallet er så lite at vi er fornøyd med en hvilken som helst energiverdi på intervallet, stopper vi prosessen.\n",
    "\n",
    "Men hvordan finner vi to skranker $E_1$ og $E_2$ til å begynne med, hvis vi ikke aner hva den virkelige energien er?\n",
    "En enkel måte er å sjekke antall nullpunkter $n_0$ som svarer til en vilkårlig $E_0$, for eksempel $E_0 = 0$.\n",
    "Denne energien må være enten en nedre eller øvre skranke for $E$.\n",
    "Vi kan så finne den andre skranken ved å sette $E_1 = -1$ (eller $E_2 = +1$), og så senke (eller øke) denne energien gradvis til vi finner den andre skranken.\n",
    "Dette kan gjøres veldig raskt hvis vi øker avstanden mellom $E_1$ og $E_2$ eksponensielt.\n",
    "Så kan vi sette i gang med halveringsmetoden for å finne energien.\n",
    "\n",
    "**Finn energien til den 60. eksiterte tilstanden for et elektron i en harmonisk oscillator.**\n",
    "\n",
    "**Du kan gjøre oppgaven på en generell og \"automatisk\" måte som fungerer for en vilkårlig $n$ og et vilkårlig symmetrisk potensial $V(x)$. Kombinér i så fall metoden for å finne to initielle skranker $E_1$ og $E_2$ med halveringsmetoden.**\n",
    "\n",
    "**Du kan også gjøre oppgaven på en \"manuell\", men like illustrerende måte. Du kan i så fall skyte og plotte funksjoner med varierende energi $E$ og justere energiene etter visuell inspeksjon av plottene inntil du vet med god presisjon hva energien må være.**"
   ]
  },
  {
   "cell_type": "code",
   "execution_count": 69,
   "metadata": {},
   "outputs": [
    {
     "ename": "TypingError",
     "evalue": "Failed in nopython mode pipeline (step: nopython frontend)\nInternal error at <numba.typeinfer.ArgConstraint object at 0x101c497278>.\n\u001b[1m\u001b[1m\u001b[1mcannot determine Numba type of <class 'function'>\u001b[0m\u001b[0m\n\u001b[0m\u001b[1m[1] During: typing of argument at <ipython-input-36-d34e8d8251d7> (20)\u001b[0m\nEnable logging at debug level for details.\n\u001b[1m\nFile \"<ipython-input-36-d34e8d8251d7>\", line 20:\u001b[0m\n\u001b[1mdef shooting_method(E, symmetric=True, V=harmonic_potensial, delta_x=dx, mass=m):\n\u001b[1m    x = [0.0,delta_x]\n\u001b[0m    \u001b[1m^\u001b[0m\u001b[0m\n\nThis error may have been caused by the following argument(s):\n- argument 2: \u001b[1mcannot determine Numba type of <class 'function'>\u001b[0m\n\nThis is not usually a problem with Numba itself but instead often caused by\nthe use of unsupported features or an issue in resolving types.\n\nTo see Python/NumPy features supported by the latest release of Numba visit:\nhttp://numba.pydata.org/numba-doc/latest/reference/pysupported.html\nand\nhttp://numba.pydata.org/numba-doc/latest/reference/numpysupported.html\n\nFor more information about typing errors and how to debug them visit:\nhttp://numba.pydata.org/numba-doc/latest/user/troubleshoot.html#my-code-doesn-t-compile\n\nIf you think your code should work with Numba, please report the error message\nand traceback, along with a minimal reproducer at:\nhttps://github.com/numba/numba/issues/new\n",
     "output_type": "error",
     "traceback": [
      "\u001b[0;31m---------------------------------------------------------------------------\u001b[0m",
      "\u001b[0;31mTypingError\u001b[0m                               Traceback (most recent call last)",
      "\u001b[0;32m<ipython-input-69-3c393d16b9f3>\u001b[0m in \u001b[0;36m<module>\u001b[0;34m\u001b[0m\n\u001b[1;32m      1\u001b[0m \u001b[0mn\u001b[0m \u001b[0;34m=\u001b[0m \u001b[0;36m0\u001b[0m   \u001b[0;31m# whole number\u001b[0m\u001b[0;34m\u001b[0m\u001b[0;34m\u001b[0m\u001b[0m\n\u001b[1;32m      2\u001b[0m \u001b[0;34m\u001b[0m\u001b[0m\n\u001b[0;32m----> 3\u001b[0;31m \u001b[0mx_1\u001b[0m\u001b[0;34m,\u001b[0m \u001b[0mpsi_1\u001b[0m\u001b[0;34m,\u001b[0m \u001b[0mzero_1\u001b[0m \u001b[0;34m=\u001b[0m \u001b[0mshooting_method\u001b[0m\u001b[0;34m(\u001b[0m\u001b[0;34m(\u001b[0m\u001b[0mn\u001b[0m\u001b[0;34m+\u001b[0m\u001b[0;36m0.49\u001b[0m\u001b[0;34m)\u001b[0m\u001b[0;34m*\u001b[0m\u001b[0mhbar\u001b[0m\u001b[0;34m*\u001b[0m\u001b[0mw\u001b[0m\u001b[0;34m)\u001b[0m\u001b[0;34m\u001b[0m\u001b[0;34m\u001b[0m\u001b[0m\n\u001b[0m\u001b[1;32m      4\u001b[0m \u001b[0mx_2\u001b[0m\u001b[0;34m,\u001b[0m \u001b[0mpsi_2\u001b[0m\u001b[0;34m,\u001b[0m \u001b[0mzero_2\u001b[0m \u001b[0;34m=\u001b[0m \u001b[0mshooting_method\u001b[0m\u001b[0;34m(\u001b[0m\u001b[0;34m(\u001b[0m\u001b[0mn\u001b[0m\u001b[0;34m+\u001b[0m\u001b[0;36m0.50\u001b[0m\u001b[0;34m)\u001b[0m\u001b[0;34m*\u001b[0m\u001b[0mhbar\u001b[0m\u001b[0;34m*\u001b[0m\u001b[0mw\u001b[0m\u001b[0;34m)\u001b[0m\u001b[0;34m\u001b[0m\u001b[0;34m\u001b[0m\u001b[0m\n\u001b[1;32m      5\u001b[0m \u001b[0mx_3\u001b[0m\u001b[0;34m,\u001b[0m \u001b[0mpsi_3\u001b[0m\u001b[0;34m,\u001b[0m \u001b[0mzero_3\u001b[0m \u001b[0;34m=\u001b[0m \u001b[0mshooting_method\u001b[0m\u001b[0;34m(\u001b[0m\u001b[0;34m(\u001b[0m\u001b[0mn\u001b[0m\u001b[0;34m+\u001b[0m\u001b[0;36m0.51\u001b[0m\u001b[0;34m)\u001b[0m\u001b[0;34m*\u001b[0m\u001b[0mhbar\u001b[0m\u001b[0;34m*\u001b[0m\u001b[0mw\u001b[0m\u001b[0;34m)\u001b[0m\u001b[0;34m\u001b[0m\u001b[0;34m\u001b[0m\u001b[0m\n",
      "\u001b[0;32m~/anaconda3/lib/python3.6/site-packages/numba/dispatcher.py\u001b[0m in \u001b[0;36m_compile_for_args\u001b[0;34m(self, *args, **kws)\u001b[0m\n\u001b[1;32m    399\u001b[0m                 \u001b[0me\u001b[0m\u001b[0;34m.\u001b[0m\u001b[0mpatch_message\u001b[0m\u001b[0;34m(\u001b[0m\u001b[0mmsg\u001b[0m\u001b[0;34m)\u001b[0m\u001b[0;34m\u001b[0m\u001b[0;34m\u001b[0m\u001b[0m\n\u001b[1;32m    400\u001b[0m \u001b[0;34m\u001b[0m\u001b[0m\n\u001b[0;32m--> 401\u001b[0;31m             \u001b[0merror_rewrite\u001b[0m\u001b[0;34m(\u001b[0m\u001b[0me\u001b[0m\u001b[0;34m,\u001b[0m \u001b[0;34m'typing'\u001b[0m\u001b[0;34m)\u001b[0m\u001b[0;34m\u001b[0m\u001b[0;34m\u001b[0m\u001b[0m\n\u001b[0m\u001b[1;32m    402\u001b[0m         \u001b[0;32mexcept\u001b[0m \u001b[0merrors\u001b[0m\u001b[0;34m.\u001b[0m\u001b[0mUnsupportedError\u001b[0m \u001b[0;32mas\u001b[0m \u001b[0me\u001b[0m\u001b[0;34m:\u001b[0m\u001b[0;34m\u001b[0m\u001b[0;34m\u001b[0m\u001b[0m\n\u001b[1;32m    403\u001b[0m             \u001b[0;31m# Something unsupported is present in the user code, add help info\u001b[0m\u001b[0;34m\u001b[0m\u001b[0;34m\u001b[0m\u001b[0;34m\u001b[0m\u001b[0m\n",
      "\u001b[0;32m~/anaconda3/lib/python3.6/site-packages/numba/dispatcher.py\u001b[0m in \u001b[0;36merror_rewrite\u001b[0;34m(e, issue_type)\u001b[0m\n\u001b[1;32m    342\u001b[0m                 \u001b[0;32mraise\u001b[0m \u001b[0me\u001b[0m\u001b[0;34m\u001b[0m\u001b[0;34m\u001b[0m\u001b[0m\n\u001b[1;32m    343\u001b[0m             \u001b[0;32melse\u001b[0m\u001b[0;34m:\u001b[0m\u001b[0;34m\u001b[0m\u001b[0;34m\u001b[0m\u001b[0m\n\u001b[0;32m--> 344\u001b[0;31m                 \u001b[0mreraise\u001b[0m\u001b[0;34m(\u001b[0m\u001b[0mtype\u001b[0m\u001b[0;34m(\u001b[0m\u001b[0me\u001b[0m\u001b[0;34m)\u001b[0m\u001b[0;34m,\u001b[0m \u001b[0me\u001b[0m\u001b[0;34m,\u001b[0m \u001b[0;32mNone\u001b[0m\u001b[0;34m)\u001b[0m\u001b[0;34m\u001b[0m\u001b[0;34m\u001b[0m\u001b[0m\n\u001b[0m\u001b[1;32m    345\u001b[0m \u001b[0;34m\u001b[0m\u001b[0m\n\u001b[1;32m    346\u001b[0m         \u001b[0margtypes\u001b[0m \u001b[0;34m=\u001b[0m \u001b[0;34m[\u001b[0m\u001b[0;34m]\u001b[0m\u001b[0;34m\u001b[0m\u001b[0;34m\u001b[0m\u001b[0m\n",
      "\u001b[0;32m~/anaconda3/lib/python3.6/site-packages/numba/six.py\u001b[0m in \u001b[0;36mreraise\u001b[0;34m(tp, value, tb)\u001b[0m\n\u001b[1;32m    666\u001b[0m             \u001b[0mvalue\u001b[0m \u001b[0;34m=\u001b[0m \u001b[0mtp\u001b[0m\u001b[0;34m(\u001b[0m\u001b[0;34m)\u001b[0m\u001b[0;34m\u001b[0m\u001b[0;34m\u001b[0m\u001b[0m\n\u001b[1;32m    667\u001b[0m         \u001b[0;32mif\u001b[0m \u001b[0mvalue\u001b[0m\u001b[0;34m.\u001b[0m\u001b[0m__traceback__\u001b[0m \u001b[0;32mis\u001b[0m \u001b[0;32mnot\u001b[0m \u001b[0mtb\u001b[0m\u001b[0;34m:\u001b[0m\u001b[0;34m\u001b[0m\u001b[0;34m\u001b[0m\u001b[0m\n\u001b[0;32m--> 668\u001b[0;31m             \u001b[0;32mraise\u001b[0m \u001b[0mvalue\u001b[0m\u001b[0;34m.\u001b[0m\u001b[0mwith_traceback\u001b[0m\u001b[0;34m(\u001b[0m\u001b[0mtb\u001b[0m\u001b[0;34m)\u001b[0m\u001b[0;34m\u001b[0m\u001b[0;34m\u001b[0m\u001b[0m\n\u001b[0m\u001b[1;32m    669\u001b[0m         \u001b[0;32mraise\u001b[0m \u001b[0mvalue\u001b[0m\u001b[0;34m\u001b[0m\u001b[0;34m\u001b[0m\u001b[0m\n\u001b[1;32m    670\u001b[0m \u001b[0;34m\u001b[0m\u001b[0m\n",
      "\u001b[0;31mTypingError\u001b[0m: Failed in nopython mode pipeline (step: nopython frontend)\nInternal error at <numba.typeinfer.ArgConstraint object at 0x101c497278>.\n\u001b[1m\u001b[1m\u001b[1mcannot determine Numba type of <class 'function'>\u001b[0m\u001b[0m\n\u001b[0m\u001b[1m[1] During: typing of argument at <ipython-input-36-d34e8d8251d7> (20)\u001b[0m\nEnable logging at debug level for details.\n\u001b[1m\nFile \"<ipython-input-36-d34e8d8251d7>\", line 20:\u001b[0m\n\u001b[1mdef shooting_method(E, symmetric=True, V=harmonic_potensial, delta_x=dx, mass=m):\n\u001b[1m    x = [0.0,delta_x]\n\u001b[0m    \u001b[1m^\u001b[0m\u001b[0m\n\nThis error may have been caused by the following argument(s):\n- argument 2: \u001b[1mcannot determine Numba type of <class 'function'>\u001b[0m\n\nThis is not usually a problem with Numba itself but instead often caused by\nthe use of unsupported features or an issue in resolving types.\n\nTo see Python/NumPy features supported by the latest release of Numba visit:\nhttp://numba.pydata.org/numba-doc/latest/reference/pysupported.html\nand\nhttp://numba.pydata.org/numba-doc/latest/reference/numpysupported.html\n\nFor more information about typing errors and how to debug them visit:\nhttp://numba.pydata.org/numba-doc/latest/user/troubleshoot.html#my-code-doesn-t-compile\n\nIf you think your code should work with Numba, please report the error message\nand traceback, along with a minimal reproducer at:\nhttps://github.com/numba/numba/issues/new\n"
     ]
    }
   ],
   "source": [
    "n = 0   # whole number\n",
    "\n",
    "x_1, psi_1, zero_1 = shooting_method((n+0.49)*hbar*w)\n",
    "x_2, psi_2, zero_2 = shooting_method((n+0.50)*hbar*w)\n",
    "x_3, psi_3, zero_3 = shooting_method((n+0.51)*hbar*w)\n",
    "\n",
    "\n",
    "plt.title('Exited state of QHO, n=%d'%int(n), fontsize=20)\n",
    "plt.plot(-x_1, (-1)**n*psi_1, 'r', x_1, psi_1, 'r')\n",
    "plt.plot(-x_3, (-1)**n*psi_3, 'c', x_3, psi_3, 'c')\n",
    "plt.plot(-x_2, (-1)**n*psi_2, 'k', x_2, psi_2, 'k')\n",
    "plt.xlabel('$x$',fontsize=15)\n",
    "plt.ylabel('$\\psi\\ (x)$',fontsize=15)\n",
    "plt.grid()\n",
    "plt.show()\n",
    "\n",
    "print(\"Zeros:\", zero_1, zero_2, zero_3)"
   ]
  },
  {
   "cell_type": "code",
   "execution_count": null,
   "metadata": {},
   "outputs": [],
   "source": []
  },
  {
   "cell_type": "code",
   "execution_count": null,
   "metadata": {},
   "outputs": [],
   "source": [
    "## Unable to test since code above doesn't work, this is what we would try to do:\n",
    "\n",
    "def findRoots(psi):\n",
    "    #Assume type(psi) list\n",
    "    counter = 0 #Amount of roots\n",
    "    for i in range(1,len(psi)):\n",
    "        if psi[i-1]*psi[i]<0:\n",
    "            counter+=1\n",
    "    return counter\n",
    "\n",
    "\n",
    "def getnthRoot(n, E1, E2):\n",
    "    lowerRoots = n-1 #arbitrary values to simulate do while loop\n",
    "    upperRoots = n+1\n",
    "    \n",
    "    while lowerRoots < n and upperRoots > n: #Assuming energy we want is between E1 and E2\n",
    "        E1*=(1+1/(E+dz)) #dz so no div 0\n",
    "        E2*=(1-1/E)\n",
    "        lowerRoots = findRoots(fillPsiLst(100,True,E1)) #not sure if it should be 100\n",
    "        upperRoots = findRoots(fillPsiLst(100,True,E2))\n",
    "        if lowerRoots==60:\n",
    "            return E1\n",
    "        elif upperRoots==60:\n",
    "            return E2\n",
    "    \n",
    "getnthRoot(60,0,1) #?"
   ]
  },
  {
   "cell_type": "code",
   "execution_count": null,
   "metadata": {},
   "outputs": [],
   "source": []
  }
 ],
 "metadata": {
  "kernelspec": {
   "display_name": "Python 3",
   "language": "python",
   "name": "python3"
  },
  "language_info": {
   "codemirror_mode": {
    "name": "ipython",
    "version": 3
   },
   "file_extension": ".py",
   "mimetype": "text/x-python",
   "name": "python",
   "nbconvert_exporter": "python",
   "pygments_lexer": "ipython3",
   "version": "3.6.8"
  }
 },
 "nbformat": 4,
 "nbformat_minor": 4
}
